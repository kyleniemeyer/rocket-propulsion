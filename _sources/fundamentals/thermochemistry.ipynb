{
 "cells": [
  {
   "cell_type": "code",
   "execution_count": 6,
   "id": "meaningful-whale",
   "metadata": {},
   "outputs": [],
   "source": [
    "# this line makes figures interactive in Jupyter notebooks\n",
    "%matplotlib inline\n",
    "from matplotlib import pyplot as plt\n",
    "\n",
    "import numpy as np\n",
    "import cantera as ct\n",
    "\n",
    "from pint import UnitRegistry\n",
    "ureg = UnitRegistry()\n",
    "Q_ = ureg.Quantity\n",
    "\n",
    "# for convenience:\n",
    "def to_si(quant):\n",
    "    '''Converts a Pint Quantity to magnitude at base SI units.\n",
    "    '''\n",
    "    return quant.to_base_units().magnitude"
   ]
  },
  {
   "cell_type": "code",
   "execution_count": 3,
   "id": "bulgarian-dublin",
   "metadata": {},
   "outputs": [],
   "source": [
    "# these lines are only for helping improve the display\n",
    "from IPython.display import set_matplotlib_formats\n",
    "set_matplotlib_formats('pdf', 'png')\n",
    "plt.rcParams['figure.dpi']= 150\n",
    "plt.rcParams['savefig.dpi'] = 150"
   ]
  },
  {
   "cell_type": "code",
   "execution_count": 47,
   "id": "binary-corruption",
   "metadata": {},
   "outputs": [
    {
     "name": "stdout",
     "output_type": "stream",
     "text": [
      "gamma=cp/cv: 1.4919307570740907\n",
      "C_p,equil = 11090.553125494333\n",
      "1.4919186582279218 1.2550230291153577 1.4919329172682332\n",
      "3048.5785541452924 2796.0780576325237 3048.598968608774\n"
     ]
    }
   ],
   "source": [
    "#full_species = {S.name: S for S in ct.Species.listFromFile('nasa_gas.cti')}\n",
    "\n",
    "#species = [full_species[S] for S in (\n",
    "#    'N2H4', 'N2', 'H2', 'H', 'N', 'NH'\n",
    "#    )]\n",
    "#gas = ct.Solution(thermo='IdealGas', species=species)\n",
    "\n",
    "#gas = ct.Solution('n2h4.yaml')\n",
    "gas = ct.Solution('nasa_n2h4.cti')\n",
    "\n",
    "temperature = Q_(5000, 'K')\n",
    "pressure = Q_(50, 'psi')\n",
    "\n",
    "gas.TPX = to_si(temperature), to_si(pressure), 'N2H4:1.0'\n",
    "#gas.equilibrate('TP')\n",
    "#gas()\n",
    "#print(Q_(gas.P, 'Pa').to('bar'))\n",
    "\n",
    "# based on example https://cantera.org/examples/python/thermo/sound_speed.py.html\n",
    "\n",
    "# set the gas to equilibrium at its current T and P\n",
    "rtol=1.0e-6\n",
    "maxiter=5000\n",
    "gas.equilibrate('TP', rtol=rtol, max_iter=maxiter)\n",
    "\n",
    "# save properties\n",
    "X0 = gas.X\n",
    "s0 = gas.s\n",
    "p0 = gas.P\n",
    "h0 = gas.h\n",
    "T0 = gas.T\n",
    "r0 = gas.density\n",
    "\n",
    "print(f'gamma=cp/cv: {gas.cp/gas.cv}')\n",
    "\n",
    "# perturb the pressure\n",
    "p1 = p0*1.0001\n",
    "\n",
    "# set the gas to a state with the same entropy and composition but\n",
    "# the perturbed pressure\n",
    "gas.SP = s0, p1\n",
    "\n",
    "# frozen sound speed\n",
    "afrozen = np.sqrt((p1 - p0)/(gas.density - r0))\n",
    "gamma_frozen = (np.log(p1) - np.log(p0)) / (np.log(gas.density) - np.log(r0))\n",
    "\n",
    "# now equilibrate the gas holding S and P constant\n",
    "gas.equilibrate('SP', rtol=rtol, max_iter=maxiter)\n",
    "\n",
    "# equilibrium sound speed\n",
    "aequil = np.sqrt((p1 - p0)/(gas.density - r0))\n",
    "gamma_equil = (np.log(p1) - np.log(p0)) / (np.log(gas.density) - np.log(r0))\n",
    "\n",
    "# compute the frozen sound speed using the ideal gas expression as a check\n",
    "gamma = gas.cp/gas.cv\n",
    "afrozen2 = np.sqrt(gamma * ct.gas_constant * gas.T /\n",
    "                   gas.mean_molecular_weight)\n",
    "\n",
    "gas.TPX = T0, p0, X0\n",
    "T1 = T0 * 1.0001\n",
    "gas.TP = T1, p0\n",
    "gas.equilibrate('SP', rtol=rtol, max_iter=maxiter)\n",
    "cp_equil = (gas.h - h0) / (gas.T - T0)\n",
    "print(f'C_p,equil = {cp_equil}')\n",
    "\n",
    "print(gamma_frozen, gamma_equil, gamma)\n",
    "print(afrozen, aequil, afrozen2)"
   ]
  },
  {
   "cell_type": "code",
   "execution_count": 25,
   "id": "legislative-pharmaceutical",
   "metadata": {},
   "outputs": [
    {
     "data": {
      "text/plain": [
       "1.4919307570740903"
      ]
     },
     "execution_count": 25,
     "metadata": {},
     "output_type": "execute_result"
    }
   ],
   "source": [
    "gas.cp_mass / gas.cv_mass"
   ]
  },
  {
   "cell_type": "code",
   "execution_count": 42,
   "id": "abroad-infrastructure",
   "metadata": {},
   "outputs": [
    {
     "data": {
      "text/plain": [
       "1.4919309728029861"
      ]
     },
     "execution_count": 42,
     "metadata": {},
     "output_type": "execute_result"
    }
   ],
   "source": [
    "gas.cp_mass / (gas.cp_mass - ct.gas_constant/gas.mean_molecular_weight)"
   ]
  },
  {
   "cell_type": "code",
   "execution_count": 43,
   "id": "medical-desperate",
   "metadata": {},
   "outputs": [
    {
     "data": {
      "text/plain": [
       "1.491930972802986"
      ]
     },
     "execution_count": 43,
     "metadata": {},
     "output_type": "execute_result"
    }
   ],
   "source": [
    "gas.cp_mole / (gas.cp_mole - ct.gas_constant)"
   ]
  },
  {
   "cell_type": "code",
   "execution_count": null,
   "id": "likely-actor",
   "metadata": {},
   "outputs": [],
   "source": []
  }
 ],
 "metadata": {
  "kernelspec": {
   "display_name": "Python 3",
   "language": "python",
   "name": "python3"
  },
  "language_info": {
   "codemirror_mode": {
    "name": "ipython",
    "version": 3
   },
   "file_extension": ".py",
   "mimetype": "text/x-python",
   "name": "python",
   "nbconvert_exporter": "python",
   "pygments_lexer": "ipython3",
   "version": "3.8.6"
  }
 },
 "nbformat": 4,
 "nbformat_minor": 5
}
