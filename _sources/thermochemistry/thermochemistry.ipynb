{
 "cells": [
  {
   "cell_type": "markdown",
   "id": "regulated-tuning",
   "metadata": {},
   "source": [
    "# Thermochemistry"
   ]
  },
  {
   "cell_type": "code",
   "execution_count": 10,
   "id": "textile-cause",
   "metadata": {},
   "outputs": [],
   "source": [
    "# this line makes figures interactive in Jupyter notebooks\n",
    "%matplotlib inline\n",
    "from matplotlib import pyplot as plt\n",
    "\n",
    "import numpy as np\n",
    "from scipy.optimize import root_scalar\n",
    "from scipy import constants\n",
    "\n",
    "from pint import UnitRegistry\n",
    "ureg = UnitRegistry()\n",
    "Q_ = ureg.Quantity\n",
    "\n",
    "# for convenience:\n",
    "def to_si(quant):\n",
    "    '''Converts a Pint Quantity to magnitude at base SI units.\n",
    "    '''\n",
    "    return quant.to_base_units().magnitude"
   ]
  },
  {
   "cell_type": "code",
   "execution_count": 11,
   "id": "universal-difference",
   "metadata": {
    "tags": [
     "hide-cell"
    ]
   },
   "outputs": [],
   "source": [
    "# these lines are only for helping improve the display\n",
    "import matplotlib_inline.backend_inline\n",
    "matplotlib_inline.backend_inline.set_matplotlib_formats('pdf', 'png')\n",
    "plt.rcParams['figure.dpi']= 300\n",
    "plt.rcParams['savefig.dpi'] = 300\n",
    "plt.rcParams['mathtext.fontset'] = 'cm'"
   ]
  },
  {
   "cell_type": "code",
   "execution_count": 12,
   "id": "3f2bf5d1-33fa-4632-9a58-ffa389495a68",
   "metadata": {},
   "outputs": [],
   "source": [
    "# define some constants\n",
    "Ru = Q_(constants.R, 'J/(K*mol)')\n",
    "g0 = Q_(constants.g, 'm/s^2')"
   ]
  },
  {
   "cell_type": "markdown",
   "id": "e268fc45-f202-43cd-8467-472ec5e898c0",
   "metadata": {},
   "source": [
    "The thermochemical performance of a rocket is primarily represented using the characteristic velocity:\n",
    "\n",
    "$$\n",
    "c^* = \\frac{p_c A_t}{\\dot{m}} = \\sqrt{\\frac{\\mathcal{R}_u T_c}{\\textrm{MW} \\, \\gamma} \\left( \\frac{\\gamma + 1}{2} \\right)^{\\frac{\\gamma+1}{\\gamma-1}} } \\;,\n",
    "$$ (eq_cstar)\n",
    "\n",
    "which depends on the (combustion) chamber temperature $T_c$, gas molecular weight $\\textrm{MW}$, and gas specific heat ratio $\\gamma$.\n",
    "The thrust coefficient $C_F$ mainly represents the performance of the nozzle, but it also depends on the specific heat ratio $\\gamma$.\n",
    "\n",
    "Up to this point, we have been provided or assumed these values, but they are actually a function of\n",
    "\n",
    "* propellant(s)\n",
    "* ratio of oxidizer to fuel\n",
    "\n",
    "Given a propellant or combination of propellants and heating (due to combustion, nuclear reactions, or electricity),\n",
    "the gas in the chamber and moving into the nozzle will form a mixture of chemical species at the state of chemical equilibrium. At this state, the forward and reverse rates of all chemical reactions are balanced, and the species remain at a fixed composition (as long as the temperature and/or pressure remain constant).\n",
    "\n",
    "The amounts of the chemical species at the equilibrium are unknown, but can be determined based on the initial conditions using methods based on [reaction equilibrium constants](https://kyleniemeyer.github.io/computational-thermo/content/chemical-equilibrium/equilibrium-constant.html) or the [minimization of Gibbs free energy](https://kyleniemeyer.github.io/computational-thermo/content/chemical-equilibrium/equilibrium-alternative-methods.html).\n",
    "If the temperature is not known/fixed, then it is also an unknown and must be found.\n",
    "\n",
    "Fortunately, we can use software tools such as NASA's [CEA](https://cearun.grc.nasa.gov) or [Cantera](https://cantera.org) to find the equilibrium state for us. We'll focus on CEA here."
   ]
  },
  {
   "cell_type": "code",
   "execution_count": 29,
   "id": "508a6d94-d513-4c58-af04-452218174056",
   "metadata": {},
   "outputs": [],
   "source": [
    "def get_area_ratio(pressure_ratio, gamma):\n",
    "    '''Calculates area ratio based on specific heat ratio and pressure ratio.\n",
    "    pressure ratio: chamber / exit\n",
    "    area ratio: exit / throat\n",
    "    '''\n",
    "    return (\n",
    "        np.power(2 / (gamma + 1), 1/(gamma-1)) * \n",
    "        np.power(pressure_ratio, 1 / gamma) *\n",
    "        np.sqrt((gamma - 1) / (gamma + 1) /\n",
    "                (1 - np.power(pressure_ratio, (1 - gamma)/gamma))\n",
    "                )\n",
    "        )\n",
    "\n",
    "def root_area_ratio(pressure_ratio, area_ratio, gamma):\n",
    "    ''' Returns zero for a given area ratio, pressure ratio, and gamma.\n",
    "    pressure ratio: chamber / exit\n",
    "    area ratio: exit / throat\n",
    "    '''\n",
    "    return area_ratio - get_area_ratio(pressure_ratio, gamma)\n",
    "\n",
    "def get_thrust_coeff(pressure_ratio, gamma):\n",
    "    '''Calculates thrust coefficient for optimum expansion.\n",
    "    pressure ratio: chamber / exit\n",
    "    area ratio: exit / throat\n",
    "    '''\n",
    "    return np.sqrt(\n",
    "        2 * np.power(gamma, 2) / (gamma - 1) * \n",
    "        np.power(2 / (gamma + 1), (gamma + 1)/(gamma - 1)) * \n",
    "        (1 - np.power(1.0 / pressure_ratio, (gamma - 1)/gamma))\n",
    "        )\n",
    "\n",
    "def get_cstar(Tc, MW, gamma):\n",
    "    '''Calculates cstar using chamber properties.'''\n",
    "    return (\n",
    "        np.sqrt(Ru * Tc / (gamma * MW)) * \n",
    "        (2 / (gamma + 1))**(-0.5*(gamma + 1)/(gamma - 1))\n",
    "        )"
   ]
  },
  {
   "cell_type": "markdown",
   "id": "bcea28b3-025b-4681-b2d5-a99701fdbeb4",
   "metadata": {},
   "source": [
    "## Fixed temperature and pressure\n",
    "\n",
    "Let's first consider the problem where the pressure and temperature of the combustion/heating chamber are fixed and known, and determine the equilibrium composition of chemical species.\n",
    "This problem is relevant to an isothermal process, or where temperature is a design variable, such\n",
    "as in nuclear thermal or electrothermal rockets.\n",
    "\n",
    "For example, say we have an arcjet operating on gaseous hydrazine (N<sub>2</sub>H<sub>4</sub>) \n",
    "as a propellant, with a chamber temperature of 5000 K and pressure of 50 psia. \n",
    "The nozzle area ratio is 100, and the arcjet will operate in vacuum.\n",
    "For this system, determine the equilibrium composition, the average molecular weight, ratio of specific heats $\\gamma$,\n",
    "and then use these to get $c^*$, $C_F$, and $I_{\\textrm{sp}}$.\n",
    "\n",
    "In [CEA](https://cearun.grc.nasa.gov/), this is a `tp` problem, or fixed temperature and pressure problem.\n",
    "We should expect that, at such high temperatures, the equilibrium state will have mostly one- and two-atom\n",
    "molecules, based on the elements present: N<sub>2</sub>, H<sub>2</sub>, H, N, and HN.\n",
    "\n",
    "The CEA plaintext input file looks like:\n",
    "\n",
    "```text\n",
    "prob tp\n",
    " \n",
    "p,psia= 50  t,k= 5000\n",
    "\n",
    "reac\n",
    "name N2H4 mol 1.0\n",
    "\n",
    "output siunits\n",
    "end\n",
    "```\n",
    "\n",
    "and the output is (with the repeated input removed):\n",
    "\n",
    "```text\n",
    "*******************************************************************************\n",
    "\n",
    "         NASA-GLENN CHEMICAL EQUILIBRIUM PROGRAM CEA2, FEBRUARY 5, 2004\n",
    "                   BY  BONNIE MCBRIDE AND SANFORD GORDON\n",
    "      REFS: NASA RP-1311, PART I, 1994 AND NASA RP-1311, PART II, 1996\n",
    "\n",
    " *******************************************************************************\n",
    "\n",
    "               THERMODYNAMIC EQUILIBRIUM PROPERTIES AT ASSIGNED\n",
    "\n",
    "                           TEMPERATURE AND PRESSURE\n",
    "\n",
    "             REACTANT                    WT FRACTION      ENERGY      TEMP\n",
    "                                          (SEE NOTE)     KJ/KG-MOL      K  \n",
    " NAME        N2H4                         1.0000000         0.000      0.000\n",
    "\n",
    " O/F=    0.00000  %FUEL=  0.000000  R,EQ.RATIO= 0.000000  PHI,EQ.RATIO= 0.000000\n",
    "\n",
    " THERMODYNAMIC PROPERTIES\n",
    "\n",
    " P, BAR            3.4474\n",
    " T, K             5000.00\n",
    " RHO, KG/CU M    5.5368-2\n",
    " H, KJ/KG         42058.0\n",
    " U, KJ/KG         35831.8\n",
    " G, KJ/KG       -103744.4\n",
    " S, KJ/(KG)(K)    29.1605\n",
    "\n",
    " M, (1/n)           6.677\n",
    " (dLV/dLP)t      -1.04028\n",
    " (dLV/dLT)p        1.4750\n",
    " Cp, KJ/(KG)(K)   11.1350\n",
    " GAMMAs            1.2548\n",
    " SON VEL,M/SEC     2795.1\n",
    "\n",
    " MOLE FRACTIONS\n",
    "\n",
    " *H               0.74177\n",
    " *H2              0.04573\n",
    " *N               0.00806\n",
    " *NH              0.00021\n",
    " *N2              0.20422\n",
    "```\n",
    "\n",
    "So, CEA not only provides the equilibrium composition in terms of mole fraction ($X_i$), but \n",
    "also the mean molecular weight of the mixture $MW$; \n",
    "thermodynamic properties and derivatives density $\\rho$, enthalpy $h$, entropy $s$,\n",
    "$\\left(\\partial \\log V / \\partial \\log P\\right)_T$, $\\left(\\partial \\log V / \\partial \\log T\\right)_P$,\n",
    "specific heat $C_p = \\partial h / \\partial T)_P$, the ratio of specific heats ($\\gamma$), \n",
    "and the sonic velocity (i.e., speed of sound) $a$. Some of these quantities are not particularly interesting to us right now, but we can use these quantities to find our quantities of interest."
   ]
  },
  {
   "cell_type": "code",
   "execution_count": 15,
   "id": "7b578af3-85e2-4c4e-b9fe-62ebc949a066",
   "metadata": {},
   "outputs": [],
   "source": [
    "area_ratio = 100\n",
    "Tc = Q_(5000, 'K')\n",
    "Pc = Q_(50, 'psi')\n",
    "\n",
    "# output from CEA\n",
    "MW = Q_(6.677, 'kg/kmol')\n",
    "gamma = 1.2548"
   ]
  },
  {
   "cell_type": "markdown",
   "id": "090490a2-fbcc-4cf9-882f-153de8f6d5d6",
   "metadata": {},
   "source": [
    "First, we need to find the exit pressure of the nozzle based on the area ratio:"
   ]
  },
  {
   "cell_type": "code",
   "execution_count": 37,
   "id": "95e9f518-a1f8-48ae-ae9e-93d1f0cd72dd",
   "metadata": {},
   "outputs": [
    {
     "name": "stdout",
     "output_type": "stream",
     "text": [
      "Exit pressure = 2.54e-02 psi\n",
      "Cstar = 3786.6 m/s\n",
      "C_F =  1.884\n"
     ]
    }
   ],
   "source": [
    "# initial guesses for Pc / Pe\n",
    "root = root_scalar(root_area_ratio, x0=1000, x1=2000, args=(area_ratio, gamma))\n",
    "Pc_Pe = root.root\n",
    "Pe = Pc / Pc_Pe\n",
    "print(f\"Exit pressure = {Pe.to('psi'): .2e~P}\")\n",
    "\n",
    "cstar = get_cstar(Tc, MW, gamma)\n",
    "print(f\"Cstar = {cstar.to('m/s'): .1f~P}\")\n",
    "\n",
    "CF0 = get_thrust_coeff(Pc_Pe, gamma)\n",
    "# ambient pressure is zero in vacuum\n",
    "CF = CF0 + (1/Pc_Pe) * area_ratio\n",
    "print(f\"C_F = {CF: .3f}\")"
   ]
  },
  {
   "cell_type": "code",
   "execution_count": 39,
   "id": "cb578dd3-40d1-48bd-8257-7b8515032b53",
   "metadata": {},
   "outputs": [
    {
     "name": "stdout",
     "output_type": "stream",
     "text": [
      "Isp = 727.4 s\n"
     ]
    }
   ],
   "source": [
    "Isp = CF * cstar / g0\n",
    "print(f\"Isp = {Isp.to('s'): .1f~P}\")"
   ]
  },
  {
   "cell_type": "markdown",
   "id": "e226349e-3fcd-444e-ad9c-5a7b9aa93b56",
   "metadata": {},
   "source": [
    "## Adiabatic combustion\n",
    "\n"
   ]
  }
 ],
 "metadata": {
  "kernelspec": {
   "display_name": "Python 3 (ipykernel)",
   "language": "python",
   "name": "python3"
  },
  "language_info": {
   "codemirror_mode": {
    "name": "ipython",
    "version": 3
   },
   "file_extension": ".py",
   "mimetype": "text/x-python",
   "name": "python",
   "nbconvert_exporter": "python",
   "pygments_lexer": "ipython3",
   "version": "3.8.12"
  }
 },
 "nbformat": 4,
 "nbformat_minor": 5
}
